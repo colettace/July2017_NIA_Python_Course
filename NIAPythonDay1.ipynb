{
 "cells": [
  {
   "cell_type": "markdown",
   "metadata": {},
   "source": [
    "NIA Intro to Python Class - July 17, 2017"
   ]
  },
  {
   "cell_type": "markdown",
   "metadata": {},
   "source": [
    "# Day 1 - Introduction to Python\n",
    "\n",
    "## About the instructor\n",
    "* Chris Coletta, Computer Scientist\n",
    "* Human Genetics Section (Schlessinger Lab), LGG\n",
    "* christopher.coletta@nih.gov\n",
    "* x8170\n",
    "* Room 10C222\n",
    "* [LinkedIn](https://www.linkedin.com/in/chriscoletta/), [personal webpage](http://www.chriscoletta.com)"
   ]
  },
  {
   "cell_type": "markdown",
   "metadata": {},
   "source": [
    "## Course format\n",
    "* Bootcamp style - no prior programming knowledge assumed\n",
    "* 6 total hours of instruction\n",
    "* No homework\n",
    "* Goal of this course: Spreadsheet Manipulation\n",
    "    * Read in and Excel file\n",
    "    * Do some transformations on the data\n",
    "    * Visualize the data\n",
    "* Roadmap\n",
    "    * Day 1: Background; the IDE; basic syntax; data types; basic operators\n",
    "    * Day 2: Complex data types; reading in data; slicing and sorting\n",
    "    * Day 3: Statistics\n",
    "    * Day 4: Visualization"
   ]
  },
  {
   "cell_type": "markdown",
   "metadata": {},
   "source": [
    "## Python fast facts!\n",
    "\n",
    "* General-purpose programming language\n",
    "* [Open-source software](https://en.wikipedia.org/wiki/Open-source_software)\n",
    "* Free\n",
    "* Started in 1989 by [Guido van Rossum](https://en.wikipedia.org/wiki/Guido_van_Rossum)\n",
    "* Emphasizes code readability => Lower barrier to entry than other programming languages\n",
    "* Case-sensitive\n",
    "<!--* Counts from zero! (like C/C++, unlike MATLAB) -->"
   ]
  },
  {
   "cell_type": "markdown",
   "metadata": {},
   "source": [
    "## Help Learning Python\n",
    "\n",
    "* [Python for Scientists and Engineers](http://pythonforengineers.com/python-for-scientists-and-engineers/) - Free Book by Shantnu Tiwari\n",
    "* Google the error message\n",
    "    * Questions and answers on StackOverflow.com\n",
    "* Use Jupyter built-in operator <code>?</code>\n",
    "* Use Python <code>help()</code> command to see documentation"
   ]
  },
  {
   "cell_type": "markdown",
   "metadata": {},
   "source": [
    "## Ecosystem of Python Data Analysis Software\n",
    "\n",
    "[Anaconda](https://www.continuum.io/downloads) is one of many Python \"distributions\" that bundles the following three types of software:\n",
    "\n",
    "### \"Core\" Python\n",
    "* The Python interpreter - understands the syntax of the [Python](python.org) language\n",
    "* [Python Standard Library](https://docs.python.org/3/library/)\n",
    "    * Built-in tools, mathmatical functions, algorithms\n",
    "    * Organized into sub-units called \"packages\" that you <code>import</code>\n",
    "   \n",
    "### Third-party packages\n",
    "* There are hundreds of them. My favorites:\n",
    "    * [NumPy](http://www.numpy.org/) - Linear algebra/matrices\n",
    "    * [SciPy](https://docs.scipy.org/doc/scipy/reference/) - Statistics + math\n",
    "    * [statsmodels](http://www.statsmodels.org/stable/index.html) - Linear models/regression\n",
    "    * [matplotlib](https://matplotlib.org/) - Makes plots/figures\n",
    "    * [Seaborn](https://seaborn.pydata.org/) - Really nice plots/figures\n",
    "    * [Pandas](http://pandas.pydata.org/) - Spreadsheet replacement/data manipulation\n",
    "    * [Scikit-learn](http://scikit-learn.org/) - Machine Learning\n",
    "    * [Scikit-image](http://scikit-image.org/) - Image processing\n",
    "    * [Biopython](http://biopython.org/wiki/Biopython) - Bioinformatics\n",
    "    * [WND-CHARM](https://github.com/wnd-charm/wnd-charm) - NIA in-house image analysis/machine learning\n",
    "    \n",
    "### IDEs\n",
    "* [Jupyter Notebook](http://jupyter.org/) - Creates sharable documents containing live code, equations, visualizations and explanatory text.\n",
    "* [Spyder](https://pythonhosted.org/spyder/) - \"Scientific PYthon Development EnviRonment\""
   ]
  },
  {
   "cell_type": "markdown",
   "metadata": {},
   "source": [
    "## IDE Concepts\n",
    "* [Integrated Development Environment](https://en.wikipedia.org/wiki/Integrated_development_environment) - The software app you use to build and test your code\n",
    "* Example notebooks [here](https://github.com/jupyter/jupyter/wiki/A-gallery-of-interesting-Jupyter-Notebooks) and [here](http://nb.bianp.net/sort/views/)\n",
    "* Compare and contrast how the user interfaces with Python and Excel\n",
    "    * Excel: Little cubby holes that you can shove data into\n",
    "    * Python: Give it a command to enter data\n",
    "    * Excel: You're the customer in the restaurant: All possible operations listed in the MENU\n",
    "    * Python: You're the chef in the restaurant: Write your own program by following recipes/[cookbooks](http://chimera.labs.oreilly.com/books/1230000000393)\n",
    "    * Excel: Don't really talk to other files\n",
    "    * Python: Input/output to other files is fundamental\n",
    "    * Excel: Sandbox: input and output to the same place\n",
    "    * Python & Jupyter Notebook: Clear workflow, like a cooking recipe or driving directions. Good for reproducible science. \n",
    "* Jupyter components\n",
    "    * Do coding inside web browser\n",
    "    * Browser communicates with a \"kernel\" (on local machine or in the cloud)\n",
    "    * Can optionally \"Download as...\" notebook into a .py, HTML, PDF, LaTeX, etc"
   ]
  },
  {
   "cell_type": "markdown",
   "metadata": {},
   "source": [
    "## Exploring the Jupyter IDE\n",
    "* Do the user interface tour"
   ]
  },
  {
   "cell_type": "markdown",
   "metadata": {},
   "source": [
    "### Cell types\n",
    "#### Markdown cells \n",
    "* [Markdown](https://github.com/adam-p/markdown-here/wiki/Markdown-Cheatsheet) Document-formatting style that is easly convertable to HTML\n",
    "* Headings preceeded by #\n",
    "* unordered lists preceeded by a \\*\n",
    "* ordered lists preceeded by a number\n",
    "* Math equations go in between two \\$, example: $t=\\frac{\\hat{\\beta}-\\beta_{{H}_0}}{s.e.(\\hat{\\beta})}$\n",
    "* Create links like [this](https://www.nia.nih.gov/)"
   ]
  },
  {
   "cell_type": "markdown",
   "metadata": {},
   "source": [
    "#### Code Cells\n",
    "* commands go in here\n",
    "* tab-completion"
   ]
  },
  {
   "cell_type": "markdown",
   "metadata": {},
   "source": [
    "### Interacting with cells\n",
    "#### Command mode\n",
    "* Press Esc - box turns blue\n",
    "* Useful shortcuts:\n",
    "    * b = Insert cell below\n",
    "    * a = inser cell above\n",
    "    * dd = Delete cell\n",
    "    * Shift + up or down = select/highlight two or more cells\n",
    "    * M = merge highlightes cells into one"
   ]
  },
  {
   "cell_type": "markdown",
   "metadata": {},
   "source": [
    "#### Edit mode\n",
    "* Double click to edit - box turns green\n",
    "* Useful shortcuts\n",
    "    * Ctrl + Shift + - = split cell at cursor location\n",
    "    * Enter = gives you a new line inside the same cell\n",
    "    * Shift + Enter = Runs the code in this cell and go to the next one\n",
    "    * Ctrl + Enter = Runs the code in this cell and stay on this one"
   ]
  },
  {
   "cell_type": "markdown",
   "metadata": {},
   "source": [
    "## Linux-style file system commands\n",
    "\n",
    "Here are some useful Linux file commands that Jupyter notebook understands:"
   ]
  },
  {
   "cell_type": "markdown",
   "metadata": {},
   "source": [
    "### <code>pwd</code>\n",
    "\n",
    "<code>pwd</code> stands for \"Present working directory.\" Tell me whare I am on the filesystem right now."
   ]
  },
  {
   "cell_type": "code",
   "execution_count": 1,
   "metadata": {},
   "outputs": [
    {
     "data": {
      "text/plain": [
       "'/Users/colettace/courses/July2017_NIA_Python_Course'"
      ]
     },
     "execution_count": 1,
     "metadata": {},
     "output_type": "execute_result"
    }
   ],
   "source": [
    "pwd"
   ]
  },
  {
   "cell_type": "markdown",
   "metadata": {},
   "source": [
    "### <code>ls</code>\n",
    "\n",
    "<code>ls</code> will list files in present working directory."
   ]
  },
  {
   "cell_type": "code",
   "execution_count": 2,
   "metadata": {},
   "outputs": [
    {
     "name": "stdout",
     "output_type": "stream",
     "text": [
      "NIAPythonDay1_July2017.ipynb  \u001b[31mNIAPythonDay4_July2017.ipynb\u001b[m\u001b[m*\r\n",
      "NIAPythonDay1_July2017.pdf    \u001b[34mimages\u001b[m\u001b[m/\r\n",
      "\u001b[31mNIAPythonDay2_July2017.ipynb\u001b[m\u001b[m* samplefile.xlsx\r\n",
      "\u001b[31mNIAPythonDay3_July2017.ipynb\u001b[m\u001b[m*\r\n"
     ]
    }
   ],
   "source": [
    "ls"
   ]
  },
  {
   "cell_type": "markdown",
   "metadata": {},
   "source": [
    "### <code>mkdir</code>\n",
    "\n",
    "<code>mkdir</code>- \"make a new folder\""
   ]
  },
  {
   "cell_type": "code",
   "execution_count": 3,
   "metadata": {
    "collapsed": true
   },
   "outputs": [],
   "source": [
    "mkdir NewFolder"
   ]
  },
  {
   "cell_type": "code",
   "execution_count": 4,
   "metadata": {},
   "outputs": [
    {
     "name": "stdout",
     "output_type": "stream",
     "text": [
      "NIAPythonDay1_July2017.ipynb  \u001b[31mNIAPythonDay4_July2017.ipynb\u001b[m\u001b[m*\r\n",
      "NIAPythonDay1_July2017.pdf    \u001b[34mNewFolder\u001b[m\u001b[m/\r\n",
      "\u001b[31mNIAPythonDay2_July2017.ipynb\u001b[m\u001b[m* \u001b[34mimages\u001b[m\u001b[m/\r\n",
      "\u001b[31mNIAPythonDay3_July2017.ipynb\u001b[m\u001b[m* samplefile.xlsx\r\n"
     ]
    }
   ],
   "source": [
    "ls"
   ]
  },
  {
   "cell_type": "markdown",
   "metadata": {},
   "source": [
    "### <code>cd</code>\n",
    "\n",
    "<code>cd foldername</code> - Change Directory of present working directory to <code>foldername</code>"
   ]
  },
  {
   "cell_type": "code",
   "execution_count": 5,
   "metadata": {},
   "outputs": [
    {
     "name": "stdout",
     "output_type": "stream",
     "text": [
      "/Users/colettace/courses/July2017_NIA_Python_Course/NewFolder\n"
     ]
    }
   ],
   "source": [
    "cd NewFolder"
   ]
  },
  {
   "cell_type": "markdown",
   "metadata": {},
   "source": [
    "### <code>cd ..</code>\n",
    "\n",
    "<code>cd ..</code> means make the current working directory one folder up."
   ]
  },
  {
   "cell_type": "code",
   "execution_count": 6,
   "metadata": {},
   "outputs": [
    {
     "name": "stdout",
     "output_type": "stream",
     "text": [
      "/Users/colettace/courses/July2017_NIA_Python_Course\n"
     ]
    }
   ],
   "source": [
    "cd .."
   ]
  },
  {
   "cell_type": "markdown",
   "metadata": {},
   "source": [
    "### <code>cd ~</code>\n",
    "\n",
    "<code>cd ~</code> (tilde character) means make the current working directory your home folder."
   ]
  },
  {
   "cell_type": "code",
   "execution_count": 7,
   "metadata": {},
   "outputs": [
    {
     "name": "stdout",
     "output_type": "stream",
     "text": [
      "/Users/colettace\n"
     ]
    }
   ],
   "source": [
    "cd ~"
   ]
  },
  {
   "cell_type": "markdown",
   "metadata": {},
   "source": [
    "### <code>rmdir</code>\n",
    "\n",
    "<code>rmdir foldername</code> means delete the folder in the current working directory named <code>foldername</code>."
   ]
  },
  {
   "cell_type": "code",
   "execution_count": 8,
   "metadata": {},
   "outputs": [
    {
     "name": "stdout",
     "output_type": "stream",
     "text": [
      "/Users/colettace/courses/July2017_NIA_Python_Course\n"
     ]
    }
   ],
   "source": [
    "cd /Users/colettace/courses/July2017_NIA_Python_Course"
   ]
  },
  {
   "cell_type": "code",
   "execution_count": 9,
   "metadata": {
    "collapsed": true
   },
   "outputs": [],
   "source": [
    "rmdir NewFolder"
   ]
  },
  {
   "cell_type": "markdown",
   "metadata": {},
   "source": [
    "### Some other commands\n",
    "\n",
    "* <code>cp</code> which copies a file from one place to another\n",
    "* <code>mv</code> which moves a file from one place to another, or changes the name of a file.\n",
    "* more..."
   ]
  },
  {
   "cell_type": "markdown",
   "metadata": {},
   "source": [
    "## The Python Statement\n",
    "\n",
    "* Your Python code is broken up into statements\n",
    "* One statement per line, except:\n",
    "    * You can put two statements on one line if they are separated by a semi-colon ;\n",
    "    * You can break up one statement over multiple lines using a backslash, which is called the \"continuation\" character.\n",
    "* Can have multiple statements inside a code cell"
   ]
  },
  {
   "cell_type": "code",
   "execution_count": null,
   "metadata": {
    "collapsed": true
   },
   "outputs": [],
   "source": []
  },
  {
   "cell_type": "markdown",
   "metadata": {},
   "source": [
    "## Comments\n",
    "Lines preceededed by a hash symbol \"#\" are ignored by the Python interpreter"
   ]
  },
  {
   "cell_type": "code",
   "execution_count": 10,
   "metadata": {
    "collapsed": true
   },
   "outputs": [],
   "source": [
    "# Run me! nothing happens!!!"
   ]
  },
  {
   "cell_type": "markdown",
   "metadata": {},
   "source": [
    "## Assignment, i.e., give a value a name\n",
    "\n",
    "* An assignment is the name on the left side of an equal sign.\n",
    "* It gives a name to a value.\n",
    "* Names can have upper and lowercase letters, numbers (as long as it's not the first character), as well as underscores (Shift + -).\n",
    "* Don't use a name that is also a [Python Syntax keyword](https://docs.python.org/3/reference/lexical_analysis.html#keywords)"
   ]
  },
  {
   "cell_type": "code",
   "execution_count": 11,
   "metadata": {
    "collapsed": true
   },
   "outputs": [],
   "source": [
    "my_fav_number = 42"
   ]
  },
  {
   "cell_type": "code",
   "execution_count": 12,
   "metadata": {
    "collapsed": true
   },
   "outputs": [],
   "source": [
    "f00 = \"asdfasdf\""
   ]
  },
  {
   "cell_type": "markdown",
   "metadata": {},
   "source": [
    "See the value attached to the name by typing the name"
   ]
  },
  {
   "cell_type": "code",
   "execution_count": 13,
   "metadata": {},
   "outputs": [
    {
     "data": {
      "text/plain": [
       "42"
      ]
     },
     "execution_count": 13,
     "metadata": {},
     "output_type": "execute_result"
    }
   ],
   "source": [
    "my_fav_number"
   ]
  },
  {
   "cell_type": "markdown",
   "metadata": {},
   "source": [
    "## <code>print()</code> function\n",
    "Use the <code>print</code> function to output one or more values at once."
   ]
  },
  {
   "cell_type": "code",
   "execution_count": 14,
   "metadata": {},
   "outputs": [
    {
     "name": "stdout",
     "output_type": "stream",
     "text": [
      "42 asdfasdf\n"
     ]
    }
   ],
   "source": [
    "print( my_fav_number, f00)"
   ]
  },
  {
   "cell_type": "markdown",
   "metadata": {},
   "source": [
    "## Code-completion using <code>TAB</code> key\n",
    "\n",
    "Hit the TAB key to use code completion to help you type faster. Most IDEs have this option. Usually a pop-up menu will appear"
   ]
  },
  {
   "cell_type": "code",
   "execution_count": 15,
   "metadata": {},
   "outputs": [
    {
     "data": {
      "text/plain": [
       "42"
      ]
     },
     "execution_count": 15,
     "metadata": {},
     "output_type": "execute_result"
    }
   ],
   "source": [
    "my_fav_number"
   ]
  },
  {
   "cell_type": "markdown",
   "metadata": {},
   "source": [
    "## Python Data Types: what are they, and why do we care?\n",
    "\n",
    "* Different types of data, different data types\n",
    "* Each type has their own various \"superpowers,\" i.e., functionality.\n",
    "* Advanced programmers often define their own types with their own functionality\n",
    "* Here, \"simple\" means that these are types that are built into core Python, and you can use them right away.\n",
    "* \"Fancy\" means simply that you need to use the <code>import</code> command before you use them.\n",
    "\n",
    "### What the difference between \"scalar\" and \"iterable\"?\n",
    "* You can't loop over a scalar. \n",
    "\n",
    "### Scalar Data Types (simple)\n",
    "* integer <code>int</code>: counting numbers\n",
    "* float <code>float</code>: decimal numbers\n",
    "* boolean <code>bool</code>: true/false\n",
    "\n",
    "### Iterable Data Types (simple)\n",
    "* string <code>str</code>: words\n",
    "* list <code>list</code>: collection of things (ordered)\n",
    "* dictionary <code>dict</code>: map one value to another (unordered)\n",
    "* set <code>set</code>: unique collection of things (unordered)\n",
    "\n",
    "### Iterable Data Types (fancy)\n",
    "* NumPy multi-dimensional <code>array</code>: data, images\n",
    "* Pandas <code>DataFrame</code>: spreadsheet analog\n",
    "\n",
    "And many more..."
   ]
  },
  {
   "cell_type": "markdown",
   "metadata": {},
   "source": [
    "## Scalar Data Types: Integer (<code>int</code>)\n",
    "\n",
    "* A counting number 1, 2, 3, -89 ..., 0"
   ]
  },
  {
   "cell_type": "code",
   "execution_count": 16,
   "metadata": {},
   "outputs": [
    {
     "data": {
      "text/plain": [
       "-23"
      ]
     },
     "execution_count": 16,
     "metadata": {},
     "output_type": "execute_result"
    }
   ],
   "source": [
    "-23"
   ]
  },
  {
   "cell_type": "markdown",
   "metadata": {},
   "source": [
    "## Scalar Data Types: Float (<code>float</code>)\n",
    "\n",
    "* Decimal numbers\n",
    "* An accurate approximation to many many decimal places, but technically not an EXACT representation\n",
    "* If you want to know more about why decimal numbers are called \"floats\", click [here](https://en.wikipedia.org/wiki/Floating-point_arithmetic)."
   ]
  },
  {
   "cell_type": "code",
   "execution_count": 17,
   "metadata": {},
   "outputs": [
    {
     "data": {
      "text/plain": [
       "3.14159"
      ]
     },
     "execution_count": 17,
     "metadata": {},
     "output_type": "execute_result"
    }
   ],
   "source": [
    "3.14159"
   ]
  },
  {
   "cell_type": "code",
   "execution_count": 18,
   "metadata": {},
   "outputs": [
    {
     "data": {
      "text/plain": [
       "0.3333333333333333"
      ]
     },
     "execution_count": 18,
     "metadata": {},
     "output_type": "execute_result"
    }
   ],
   "source": [
    "1/3"
   ]
  },
  {
   "cell_type": "markdown",
   "metadata": {},
   "source": [
    "## PEMDAS operators\n",
    "\n",
    "1. Parentheses - <code>()</code>\n",
    "2. Exponent - <code>**</code>\n",
    "3. Multiplication - <code>*</code>\n",
    "4. Division - <code>/</code>\n",
    "5. Addition - <code>+</code>\n",
    "6. Subtraction - <code>-</code>\n",
    "\n",
    "Example: What is $9-3\\div\\frac{1}{3}+1=?$"
   ]
  },
  {
   "cell_type": "code",
   "execution_count": 19,
   "metadata": {},
   "outputs": [
    {
     "data": {
      "text/plain": [
       "9.0"
      ]
     },
     "execution_count": 19,
     "metadata": {},
     "output_type": "execute_result"
    }
   ],
   "source": [
    "9 - 3 / 1/3 + 1"
   ]
  },
  {
   "cell_type": "code",
   "execution_count": 20,
   "metadata": {},
   "outputs": [
    {
     "data": {
      "text/plain": [
       "1.0"
      ]
     },
     "execution_count": 20,
     "metadata": {},
     "output_type": "execute_result"
    }
   ],
   "source": [
    "9 - 3 / (1/3) + 1"
   ]
  },
  {
   "cell_type": "markdown",
   "metadata": {},
   "source": [
    "## Using the <code>type()</code> function\n",
    "\n",
    "Use this to have Python tell you the data type of any expression or named value."
   ]
  },
  {
   "cell_type": "code",
   "execution_count": 21,
   "metadata": {},
   "outputs": [
    {
     "data": {
      "text/plain": [
       "int"
      ]
     },
     "execution_count": 21,
     "metadata": {},
     "output_type": "execute_result"
    }
   ],
   "source": [
    "type( my_fav_number )"
   ]
  },
  {
   "cell_type": "code",
   "execution_count": 22,
   "metadata": {},
   "outputs": [
    {
     "data": {
      "text/plain": [
       "float"
      ]
     },
     "execution_count": 22,
     "metadata": {},
     "output_type": "execute_result"
    }
   ],
   "source": [
    "type( 3.14159 )"
   ]
  },
  {
   "cell_type": "markdown",
   "metadata": {},
   "source": [
    "## Scalar Data Types: Boolean (<code>bool</code>)\n",
    "\n",
    "Bools can only have a value of <code>True</code> or <code>False</code>."
   ]
  },
  {
   "cell_type": "code",
   "execution_count": 23,
   "metadata": {},
   "outputs": [
    {
     "data": {
      "text/plain": [
       "True"
      ]
     },
     "execution_count": 23,
     "metadata": {},
     "output_type": "execute_result"
    }
   ],
   "source": [
    "True"
   ]
  },
  {
   "cell_type": "markdown",
   "metadata": {},
   "source": [
    "## Boolean operators <code>and</code>, <code>or</code>, and <code>not</code>\n",
    "\n",
    "<code>and</code> and <code>or</code> are \"binary operators\", meaning you slap them in between two truth values to make one value."
   ]
  },
  {
   "cell_type": "code",
   "execution_count": 24,
   "metadata": {},
   "outputs": [
    {
     "data": {
      "text/plain": [
       "False"
      ]
     },
     "execution_count": 24,
     "metadata": {},
     "output_type": "execute_result"
    }
   ],
   "source": [
    "True and False"
   ]
  },
  {
   "cell_type": "code",
   "execution_count": 25,
   "metadata": {},
   "outputs": [
    {
     "data": {
      "text/plain": [
       "True"
      ]
     },
     "execution_count": 25,
     "metadata": {},
     "output_type": "execute_result"
    }
   ],
   "source": [
    "True or False"
   ]
  },
  {
   "cell_type": "code",
   "execution_count": 26,
   "metadata": {},
   "outputs": [
    {
     "name": "stdout",
     "output_type": "stream",
     "text": [
      "False\n"
     ]
    }
   ],
   "source": [
    "my_bool_value = True and False\n",
    "print( my_bool_value )"
   ]
  },
  {
   "cell_type": "markdown",
   "metadata": {},
   "source": [
    "<code>not</code> is a unary operator that negates the value after it."
   ]
  },
  {
   "cell_type": "code",
   "execution_count": 27,
   "metadata": {},
   "outputs": [
    {
     "data": {
      "text/plain": [
       "False"
      ]
     },
     "execution_count": 27,
     "metadata": {},
     "output_type": "execute_result"
    }
   ],
   "source": [
    "not True"
   ]
  },
  {
   "cell_type": "markdown",
   "metadata": {},
   "source": [
    "## Some math operators\n",
    "\n",
    "* <code><</code> less than\n",
    "* <code><=</code> less than or equal to\n",
    "* <code>></code> greater than\n",
    "* <code>>=</code> greater than or equal to\n",
    "* <code>==</code> is equal to\n",
    "* <code>!=</code> is not equal to\n",
    "\n",
    "Note the double equal signs is an operator, not an assignment!!"
   ]
  },
  {
   "cell_type": "code",
   "execution_count": 28,
   "metadata": {},
   "outputs": [
    {
     "data": {
      "text/plain": [
       "True"
      ]
     },
     "execution_count": 28,
     "metadata": {},
     "output_type": "execute_result"
    }
   ],
   "source": [
    "5 < 6"
   ]
  },
  {
   "cell_type": "code",
   "execution_count": 29,
   "metadata": {},
   "outputs": [
    {
     "data": {
      "text/plain": [
       "True"
      ]
     },
     "execution_count": 29,
     "metadata": {},
     "output_type": "execute_result"
    }
   ],
   "source": [
    "6 <= 6"
   ]
  },
  {
   "cell_type": "code",
   "execution_count": 30,
   "metadata": {},
   "outputs": [
    {
     "data": {
      "text/plain": [
       "True"
      ]
     },
     "execution_count": 30,
     "metadata": {},
     "output_type": "execute_result"
    }
   ],
   "source": [
    "-6 <= 6"
   ]
  },
  {
   "cell_type": "code",
   "execution_count": 31,
   "metadata": {},
   "outputs": [
    {
     "data": {
      "text/plain": [
       "False"
      ]
     },
     "execution_count": 31,
     "metadata": {},
     "output_type": "execute_result"
    }
   ],
   "source": [
    "6 != 6"
   ]
  },
  {
   "cell_type": "code",
   "execution_count": 32,
   "metadata": {},
   "outputs": [
    {
     "data": {
      "text/plain": [
       "False"
      ]
     },
     "execution_count": 32,
     "metadata": {},
     "output_type": "execute_result"
    }
   ],
   "source": [
    "not( 6 == 6 )"
   ]
  },
  {
   "cell_type": "markdown",
   "metadata": {},
   "source": [
    "## Using <code>whos</code> command to keep track of named values"
   ]
  },
  {
   "cell_type": "code",
   "execution_count": 33,
   "metadata": {},
   "outputs": [
    {
     "name": "stdout",
     "output_type": "stream",
     "text": [
      "Variable        Type    Data/Info\n",
      "---------------------------------\n",
      "f00             str     asdfasdf\n",
      "my_bool_value   bool    False\n",
      "my_fav_number   int     42\n"
     ]
    }
   ],
   "source": [
    "whos"
   ]
  },
  {
   "cell_type": "markdown",
   "metadata": {},
   "source": [
    "## Iterable Data Types: Strings (<code>str</code>)\n",
    "\n",
    "* A data type that contains one or more characters\n",
    "* Strings are surrounded, a.k.a. \"delimited\" by matching single or double quotes\n",
    "* You choose whether to use single or double quotes based on what's in the string."
   ]
  },
  {
   "cell_type": "code",
   "execution_count": 34,
   "metadata": {},
   "outputs": [
    {
     "data": {
      "text/plain": [
       "'Hello, world!'"
      ]
     },
     "execution_count": 34,
     "metadata": {},
     "output_type": "execute_result"
    }
   ],
   "source": [
    "\"Hello, world!\""
   ]
  },
  {
   "cell_type": "code",
   "execution_count": 35,
   "metadata": {},
   "outputs": [
    {
     "data": {
      "text/plain": [
       "'Hello, world!'"
      ]
     },
     "execution_count": 35,
     "metadata": {},
     "output_type": "execute_result"
    }
   ],
   "source": [
    "'Hello, world!'"
   ]
  },
  {
   "cell_type": "markdown",
   "metadata": {},
   "source": [
    "I repeat: ***No difference between single and double quotes strings!!!!*** I promise!"
   ]
  },
  {
   "cell_type": "code",
   "execution_count": 36,
   "metadata": {},
   "outputs": [
    {
     "data": {
      "text/plain": [
       "\"Can't\""
      ]
     },
     "execution_count": 36,
     "metadata": {},
     "output_type": "execute_result"
    }
   ],
   "source": [
    "\"Can't\""
   ]
  },
  {
   "cell_type": "code",
   "execution_count": 37,
   "metadata": {},
   "outputs": [
    {
     "data": {
      "text/plain": [
       "'\"Really,\" she said?'"
      ]
     },
     "execution_count": 37,
     "metadata": {},
     "output_type": "execute_result"
    }
   ],
   "source": [
    "'\"Really,\" she said?'"
   ]
  },
  {
   "cell_type": "markdown",
   "metadata": {},
   "source": [
    "By the way, I'm ***not*** talking about the backtick `, which shares a key with the tilde ~ character. Backtick is ***different*** than a single quote ', which shares a key with the double quote \"."
   ]
  },
  {
   "cell_type": "markdown",
   "metadata": {},
   "source": [
    "## Iterable Data Types: Lists (<code>list</code>)\n",
    "\n",
    "* Container for a collection of values\n",
    "* Can all be the same type or different, doesn't matter.\n",
    "* Items delimited by commas, all surrounded by brackets [], not parentheses ()\n",
    "* The order of the values in the list is remembered\n",
    "\n",
    "![https://www.javatpoint.com/python/images/elementsinalists.png](https://www.javatpoint.com/python/images/elementsinalists.png)"
   ]
  },
  {
   "cell_type": "code",
   "execution_count": 38,
   "metadata": {
    "collapsed": true
   },
   "outputs": [],
   "source": [
    "a_list = [ 1, 2, 3, 1, \"a dog\" ]"
   ]
  },
  {
   "cell_type": "markdown",
   "metadata": {},
   "source": [
    "### Get the ith element from a list using bracket notation"
   ]
  },
  {
   "cell_type": "code",
   "execution_count": 39,
   "metadata": {},
   "outputs": [
    {
     "data": {
      "text/plain": [
       "1"
      ]
     },
     "execution_count": 39,
     "metadata": {},
     "output_type": "execute_result"
    }
   ],
   "source": [
    "a_list[0]"
   ]
  },
  {
   "cell_type": "code",
   "execution_count": 40,
   "metadata": {},
   "outputs": [
    {
     "data": {
      "text/plain": [
       "'a dog'"
      ]
     },
     "execution_count": 40,
     "metadata": {},
     "output_type": "execute_result"
    }
   ],
   "source": [
    "a_list[4]"
   ]
  },
  {
   "cell_type": "markdown",
   "metadata": {},
   "source": [
    "### Negative index counts from the back of the list"
   ]
  },
  {
   "cell_type": "code",
   "execution_count": 41,
   "metadata": {},
   "outputs": [
    {
     "data": {
      "text/plain": [
       "'a dog'"
      ]
     },
     "execution_count": 41,
     "metadata": {},
     "output_type": "execute_result"
    }
   ],
   "source": [
    "a_list[-1]"
   ]
  },
  {
   "cell_type": "markdown",
   "metadata": {},
   "source": [
    "### Use the \"unpacking\" syntax to get values out of small lists"
   ]
  },
  {
   "cell_type": "code",
   "execution_count": 42,
   "metadata": {
    "collapsed": true
   },
   "outputs": [],
   "source": [
    "a_few_things = [ \"hello\", \"goodbye\", 42 ]"
   ]
  },
  {
   "cell_type": "code",
   "execution_count": 43,
   "metadata": {
    "collapsed": true
   },
   "outputs": [],
   "source": [
    "first, second, third = a_few_things"
   ]
  },
  {
   "cell_type": "code",
   "execution_count": 44,
   "metadata": {},
   "outputs": [
    {
     "data": {
      "text/plain": [
       "'hello'"
      ]
     },
     "execution_count": 44,
     "metadata": {},
     "output_type": "execute_result"
    }
   ],
   "source": [
    "first"
   ]
  },
  {
   "cell_type": "markdown",
   "metadata": {},
   "source": [
    "## Iterable Data Types: Dictionaries (<code>dict</code>)\n",
    "\n",
    "* A <code>dict</code> is one-way associative array, where \"keys\" are mapped to \"values.\"\n",
    "* Note: A <code>dict</code> does not keep track of the order in which you inputted the key-value pairs\n",
    "    * for that you need <code>collections.OrderedDict</code>\n",
    "\n",
    "![https://developers.google.com/edu/python/images/dict.png](https://developers.google.com/edu/python/images/dict.png)"
   ]
  },
  {
   "cell_type": "markdown",
   "metadata": {},
   "source": [
    "### Create a <code>dict</code> with stuff in it\n",
    "\n",
    "The keys are separated by the values by a colon (:), and the key-value pairs are separated by commas."
   ]
  },
  {
   "cell_type": "code",
   "execution_count": 45,
   "metadata": {
    "collapsed": true
   },
   "outputs": [],
   "source": [
    "simple = { 1 : 'a', 2 : 'b', 3: 'c'}"
   ]
  },
  {
   "cell_type": "code",
   "execution_count": 46,
   "metadata": {},
   "outputs": [
    {
     "data": {
      "text/plain": [
       "{1: 'a', 2: 'b', 3: 'c'}"
      ]
     },
     "execution_count": 46,
     "metadata": {},
     "output_type": "execute_result"
    }
   ],
   "source": [
    "simple"
   ]
  },
  {
   "cell_type": "markdown",
   "metadata": {},
   "source": [
    "### Access an element in a <code>dict</code> using its key and bracket notation <code>[]</code>"
   ]
  },
  {
   "cell_type": "code",
   "execution_count": 47,
   "metadata": {},
   "outputs": [
    {
     "data": {
      "text/plain": [
       "'a'"
      ]
     },
     "execution_count": 47,
     "metadata": {},
     "output_type": "execute_result"
    }
   ],
   "source": [
    "simple[1]"
   ]
  },
  {
   "cell_type": "markdown",
   "metadata": {},
   "source": [
    "### Create an empty <code>dict</code>\n",
    "\n",
    "Declare empty dict with {}, or dict()."
   ]
  },
  {
   "cell_type": "code",
   "execution_count": 48,
   "metadata": {},
   "outputs": [
    {
     "data": {
      "text/plain": [
       "{}"
      ]
     },
     "execution_count": 48,
     "metadata": {},
     "output_type": "execute_result"
    }
   ],
   "source": [
    "{}"
   ]
  },
  {
   "cell_type": "markdown",
   "metadata": {},
   "source": [
    "### Add a new key-value pair to an existing <code>dict</code> using bracket notation <code>[]</code>"
   ]
  },
  {
   "cell_type": "code",
   "execution_count": 49,
   "metadata": {
    "collapsed": true
   },
   "outputs": [],
   "source": [
    "simple['new_key'] = 'new_value'"
   ]
  },
  {
   "cell_type": "code",
   "execution_count": 50,
   "metadata": {},
   "outputs": [
    {
     "data": {
      "text/plain": [
       "{1: 'a', 2: 'b', 3: 'c', 'new_key': 'new_value'}"
      ]
     },
     "execution_count": 50,
     "metadata": {},
     "output_type": "execute_result"
    }
   ],
   "source": [
    "simple"
   ]
  },
  {
   "cell_type": "markdown",
   "metadata": {},
   "source": [
    "## Iterable Data Types: Sets (<code>set</code>)\n",
    "\n",
    "* Similar to math concept of sets; has operations like union, intersection, etc.\n",
    "* Sets are unindexed, unordered, and contains no duplicates.\n",
    "* My personal favorite of the Python standard types!\n",
    "\n",
    "### Create a <code>set</code> with stuff in it\n",
    "\n",
    "Declare a set by putting values inside braces."
   ]
  },
  {
   "cell_type": "code",
   "execution_count": 51,
   "metadata": {
    "collapsed": true
   },
   "outputs": [],
   "source": [
    "a_set = {'set', 'of', 'words'}"
   ]
  },
  {
   "cell_type": "markdown",
   "metadata": {},
   "source": [
    "### Create an empty <code>set</code>\n",
    "\n",
    "Make an empty using <code>set()</code>."
   ]
  },
  {
   "cell_type": "code",
   "execution_count": 52,
   "metadata": {
    "collapsed": true
   },
   "outputs": [],
   "source": [
    "empty_set = set() # not {}, that would be an empty dict"
   ]
  },
  {
   "cell_type": "code",
   "execution_count": 53,
   "metadata": {},
   "outputs": [
    {
     "data": {
      "text/plain": [
       "set()"
      ]
     },
     "execution_count": 53,
     "metadata": {},
     "output_type": "execute_result"
    }
   ],
   "source": [
    "empty_set"
   ]
  },
  {
   "cell_type": "code",
   "execution_count": 54,
   "metadata": {
    "collapsed": true
   },
   "outputs": [],
   "source": [
    "empty_set.add( 'hi')"
   ]
  },
  {
   "cell_type": "code",
   "execution_count": 55,
   "metadata": {},
   "outputs": [
    {
     "data": {
      "text/plain": [
       "{'hi'}"
      ]
     },
     "execution_count": 55,
     "metadata": {},
     "output_type": "execute_result"
    }
   ],
   "source": [
    "empty_set"
   ]
  },
  {
   "cell_type": "code",
   "execution_count": 56,
   "metadata": {
    "collapsed": true
   },
   "outputs": [],
   "source": [
    "first = {1,2,3,4,5}\n",
    "second = {4,5,6,7,8}"
   ]
  },
  {
   "cell_type": "markdown",
   "metadata": {},
   "source": [
    "### Set Union Operator (<code>|</code>) - \"or\"\n",
    "\n",
    "![https://cdn.programiz.com/sites/tutorial2program/files/set-union.jpg](https://cdn.programiz.com/sites/tutorial2program/files/set-union.jpg)"
   ]
  },
  {
   "cell_type": "code",
   "execution_count": 57,
   "metadata": {},
   "outputs": [
    {
     "data": {
      "text/plain": [
       "{1, 2, 3, 4, 5, 6, 7, 8}"
      ]
     },
     "execution_count": 57,
     "metadata": {},
     "output_type": "execute_result"
    }
   ],
   "source": [
    "first | second"
   ]
  },
  {
   "cell_type": "markdown",
   "metadata": {},
   "source": [
    "### Set Intersection Operator (<code>&</code>) - \"and\"\n",
    "\n",
    "![https://cdn.programiz.com/sites/tutorial2program/files/set-intersection.jpg](https://cdn.programiz.com/sites/tutorial2program/files/set-intersection.jpg)"
   ]
  },
  {
   "cell_type": "code",
   "execution_count": 58,
   "metadata": {},
   "outputs": [
    {
     "data": {
      "text/plain": [
       "{4, 5}"
      ]
     },
     "execution_count": 58,
     "metadata": {},
     "output_type": "execute_result"
    }
   ],
   "source": [
    "first & second "
   ]
  },
  {
   "cell_type": "markdown",
   "metadata": {},
   "source": [
    "### Set Difference Operator (<code>-</code>)\n",
    "\n",
    "![https://cdn.programiz.com/sites/tutorial2program/files/set-difference.jpg](https://cdn.programiz.com/sites/tutorial2program/files/set-difference.jpg)"
   ]
  },
  {
   "cell_type": "code",
   "execution_count": 59,
   "metadata": {},
   "outputs": [
    {
     "data": {
      "text/plain": [
       "{1, 2, 3}"
      ]
     },
     "execution_count": 59,
     "metadata": {},
     "output_type": "execute_result"
    }
   ],
   "source": [
    "first - second"
   ]
  },
  {
   "cell_type": "markdown",
   "metadata": {},
   "source": [
    "### Set Symmetrical Difference Operator (<code>^</code>)\n",
    "\n",
    "![http://www.itmaybeahack.com/book/python-2.6/html/_images/p2c6-symmdiff.png](http://www.itmaybeahack.com/book/python-2.6/html/_images/p2c6-symmdiff.png)"
   ]
  },
  {
   "cell_type": "code",
   "execution_count": 60,
   "metadata": {},
   "outputs": [
    {
     "data": {
      "text/plain": [
       "{1, 2, 3, 6, 7, 8}"
      ]
     },
     "execution_count": 60,
     "metadata": {},
     "output_type": "execute_result"
    }
   ],
   "source": [
    "first ^ second"
   ]
  },
  {
   "cell_type": "markdown",
   "metadata": {},
   "source": [
    "## How many elements in an iterable? Use <code>len()</code>"
   ]
  },
  {
   "cell_type": "code",
   "execution_count": 61,
   "metadata": {},
   "outputs": [
    {
     "data": {
      "text/plain": [
       "6"
      ]
     },
     "execution_count": 61,
     "metadata": {},
     "output_type": "execute_result"
    }
   ],
   "source": [
    "len( first ^ second )"
   ]
  },
  {
   "cell_type": "code",
   "execution_count": 62,
   "metadata": {},
   "outputs": [
    {
     "data": {
      "text/plain": [
       "5"
      ]
     },
     "execution_count": 62,
     "metadata": {},
     "output_type": "execute_result"
    }
   ],
   "source": [
    "len(a_list)"
   ]
  },
  {
   "cell_type": "markdown",
   "metadata": {},
   "source": [
    "## Can you change a value's type? Yes!\n",
    "\n",
    "Use these functions to \"[coerce](https://en.wikipedia.org/wiki/Type_conversion)\" a value from one type to another:\n",
    "\n",
    "* <code>int()</code>\n",
    "* <code>float()</code>\n",
    "* <code>bool()</code>\n",
    "* <code>list()</code>\n",
    "* <code>dict()</code>\n",
    "* <code>set()</code>\n",
    "* et al."
   ]
  },
  {
   "cell_type": "code",
   "execution_count": 63,
   "metadata": {
    "collapsed": true
   },
   "outputs": [],
   "source": [
    "a_string = '45'"
   ]
  },
  {
   "cell_type": "code",
   "execution_count": 64,
   "metadata": {},
   "outputs": [
    {
     "ename": "TypeError",
     "evalue": "unsupported operand type(s) for +: 'int' and 'str'",
     "output_type": "error",
     "traceback": [
      "\u001b[0;31m---------------------------------------------------------------------------\u001b[0m",
      "\u001b[0;31mTypeError\u001b[0m                                 Traceback (most recent call last)",
      "\u001b[0;32m<ipython-input-64-9fc9abcf064a>\u001b[0m in \u001b[0;36m<module>\u001b[0;34m()\u001b[0m\n\u001b[0;32m----> 1\u001b[0;31m \u001b[0;36m56\u001b[0m \u001b[0;34m+\u001b[0m \u001b[0ma_string\u001b[0m\u001b[0;34m\u001b[0m\u001b[0m\n\u001b[0m",
      "\u001b[0;31mTypeError\u001b[0m: unsupported operand type(s) for +: 'int' and 'str'"
     ]
    }
   ],
   "source": [
    "56 + a_string"
   ]
  },
  {
   "cell_type": "code",
   "execution_count": 65,
   "metadata": {},
   "outputs": [
    {
     "data": {
      "text/plain": [
       "101"
      ]
     },
     "execution_count": 65,
     "metadata": {},
     "output_type": "execute_result"
    }
   ],
   "source": [
    "56 + int(a_string)"
   ]
  },
  {
   "cell_type": "code",
   "execution_count": 66,
   "metadata": {},
   "outputs": [
    {
     "data": {
      "text/plain": [
       "'5645'"
      ]
     },
     "execution_count": 66,
     "metadata": {},
     "output_type": "execute_result"
    }
   ],
   "source": [
    "str( 56 ) + a_string"
   ]
  },
  {
   "cell_type": "code",
   "execution_count": 67,
   "metadata": {},
   "outputs": [
    {
     "data": {
      "text/plain": [
       "['l', 'i', 's', 't', 'i', 'f', 'y', ' ', 'm', 'e', '!']"
      ]
     },
     "execution_count": 67,
     "metadata": {},
     "output_type": "execute_result"
    }
   ],
   "source": [
    "list( \"listify me!\")"
   ]
  },
  {
   "cell_type": "code",
   "execution_count": 68,
   "metadata": {},
   "outputs": [
    {
     "data": {
      "text/plain": [
       "{' ', '!', 'e', 'f', 'i', 'l', 'm', 's', 't', 'y'}"
      ]
     },
     "execution_count": 68,
     "metadata": {},
     "output_type": "execute_result"
    }
   ],
   "source": [
    "set( \"listify me!\" )"
   ]
  },
  {
   "cell_type": "code",
   "execution_count": 69,
   "metadata": {},
   "outputs": [
    {
     "data": {
      "text/plain": [
       "3.0"
      ]
     },
     "execution_count": 69,
     "metadata": {},
     "output_type": "execute_result"
    }
   ],
   "source": [
    "float( 3 )"
   ]
  },
  {
   "cell_type": "code",
   "execution_count": 70,
   "metadata": {},
   "outputs": [
    {
     "data": {
      "text/plain": [
       "3"
      ]
     },
     "execution_count": 70,
     "metadata": {},
     "output_type": "execute_result"
    }
   ],
   "source": [
    "int( 3.14159 )"
   ]
  },
  {
   "cell_type": "code",
   "execution_count": 71,
   "metadata": {},
   "outputs": [
    {
     "data": {
      "text/plain": [
       "True"
      ]
     },
     "execution_count": 71,
     "metadata": {},
     "output_type": "execute_result"
    }
   ],
   "source": [
    "bool( \"a_string\")"
   ]
  },
  {
   "cell_type": "code",
   "execution_count": 72,
   "metadata": {},
   "outputs": [
    {
     "data": {
      "text/plain": [
       "False"
      ]
     },
     "execution_count": 72,
     "metadata": {},
     "output_type": "execute_result"
    }
   ],
   "source": [
    "bool( \"\" )"
   ]
  },
  {
   "cell_type": "markdown",
   "metadata": {},
   "source": [
    "## Iterating over items in a <code>list</code> using a <code>for</code> loop\n",
    "\n",
    "* Statements you want to be repeated inside the loop should be *indented* below the first line.\n",
    "* Use the <code>TAB</code> key to indent."
   ]
  },
  {
   "cell_type": "code",
   "execution_count": 73,
   "metadata": {
    "collapsed": true
   },
   "outputs": [],
   "source": [
    "months = ['Jan', 'Feb', 'Mar', 'Apr', 'May', 'June']"
   ]
  },
  {
   "cell_type": "code",
   "execution_count": 74,
   "metadata": {},
   "outputs": [
    {
     "name": "stdout",
     "output_type": "stream",
     "text": [
      "Jan\n",
      "Feb\n",
      "Mar\n",
      "Apr\n",
      "May\n",
      "June\n"
     ]
    }
   ],
   "source": [
    "for m in months:\n",
    "    print( m )"
   ]
  },
  {
   "cell_type": "markdown",
   "metadata": {},
   "source": [
    "## Iterating over items in a <code>dict</code> using a <code>for</code> loop using <code>.items()</code> syntax"
   ]
  },
  {
   "cell_type": "code",
   "execution_count": 75,
   "metadata": {
    "collapsed": true
   },
   "outputs": [],
   "source": [
    "num_days_in_month = { 'Jan' : 31, 'Feb' : 28, 'Mar' : 31, 'Apr' : 30 }"
   ]
  },
  {
   "cell_type": "code",
   "execution_count": 76,
   "metadata": {},
   "outputs": [
    {
     "name": "stdout",
     "output_type": "stream",
     "text": [
      "There are 31 days in Jan\n",
      "There are 28 days in Feb\n",
      "There are 31 days in Mar\n",
      "There are 30 days in Apr\n"
     ]
    }
   ],
   "source": [
    "for m, d in num_days_in_month.items():\n",
    "    print( \"There are\", d, \"days in\", m )"
   ]
  },
  {
   "cell_type": "markdown",
   "metadata": {},
   "source": [
    "## Day 1 review\n",
    "\n",
    "1. Python ecosystem of tools\n",
    "2. Jupyter Notebook is code, output and documentation all in one document\n",
    "3. Type code into cells, and to run them you press Shift-Enter\n",
    "4. Tab completion is nice\n",
    "4. Different data types for different data\n",
    "5. Operators take one or more input values and turn them into other values *based on the input values type*\n",
    "6. Converting data from one type to another using the function syntax, e.g., <code>int()</code>\n",
    "7. Iterating over iterables using a for loop"
   ]
  }
 ],
 "metadata": {
  "kernelspec": {
   "display_name": "Python 3",
   "language": "python",
   "name": "python3"
  },
  "language_info": {
   "codemirror_mode": {
    "name": "ipython",
    "version": 3
   },
   "file_extension": ".py",
   "mimetype": "text/x-python",
   "name": "python",
   "nbconvert_exporter": "python",
   "pygments_lexer": "ipython3",
   "version": "3.6.1"
  }
 },
 "nbformat": 4,
 "nbformat_minor": 2
}
